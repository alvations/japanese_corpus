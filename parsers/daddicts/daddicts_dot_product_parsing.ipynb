{
 "cells": [
  {
   "cell_type": "code",
   "execution_count": 3,
   "metadata": {
    "collapsed": false
   },
   "outputs": [
    {
     "name": "stderr",
     "output_type": "stream",
     "text": [
      "/Users/dennybritz/venvs/tf/lib/python3.5/site-packages/ass/__init__.py:7: UserWarning: Could not load renderer: dlsym(RTLD_DEFAULT, ass_set_fonts_dir): symbol not found\n",
      "  warnings.warn(\"Could not load renderer: \" + str(e))\n"
     ]
    }
   ],
   "source": [
    "%matplotlib inline\n",
    "\n",
    "import os\n",
    "import pysrt # pip install pysrt\n",
    "import ass # pip install ass\n",
    "from collections import namedtuple\n",
    "\n",
    "import numpy as np\n",
    "from scipy.spatial.distance import cdist\n",
    "import matplotlib\n",
    "from matplotlib import pyplot as plt\n",
    "matplotlib.style.use(\"ggplot\")"
   ]
  },
  {
   "cell_type": "code",
   "execution_count": 4,
   "metadata": {
    "collapsed": true
   },
   "outputs": [],
   "source": [
    "DATA_DIR_EN = \"/Users/dennybritz/Downloads/daddicts_subs/en\"\n",
    "DATA_DIR_JA = \"/Users/dennybritz/Downloads/daddicts_subs/ja\""
   ]
  },
  {
   "cell_type": "code",
   "execution_count": 5,
   "metadata": {
    "collapsed": true
   },
   "outputs": [],
   "source": [
    "def parse_sub(filename):\n",
    "  # TRY ASS\n",
    "  try:\n",
    "    with open(filename) as f:\n",
    "      subs = ass.parse(f)\n",
    "      return (\"ASS\", subs)\n",
    "  except: \n",
    "    pass\n",
    "\n",
    "  # Try SRT\n",
    "  try:\n",
    "    subs = pysrt.open(filename, error_handling=2)\n",
    "    return (\"SRT\", subs)\n",
    "  except:\n",
    "    pass\n",
    "\n",
    "  return None      "
   ]
  },
  {
   "cell_type": "code",
   "execution_count": 6,
   "metadata": {
    "collapsed": false
   },
   "outputs": [],
   "source": [
    "def get_subs(directory):\n",
    "  \"\"\"Returns an iterator of (name, type) for all files in a directory.\n",
    "  \"\"\"\n",
    "  for filename in os.listdir(directory):\n",
    "    full_path = os.path.join(directory, filename)\n",
    "    res = parse_sub(full_path)\n",
    "    if res is not None:\n",
    "      yield (full_path, res)"
   ]
  },
  {
   "cell_type": "code",
   "execution_count": 7,
   "metadata": {
    "collapsed": false
   },
   "outputs": [],
   "source": [
    "ja_subs_dict = dict(list(get_subs(DATA_DIR_JA)))\n",
    "en_subs_dict = dict(list(get_subs(DATA_DIR_EN)))"
   ]
  },
  {
   "cell_type": "code",
   "execution_count": 8,
   "metadata": {
    "collapsed": false
   },
   "outputs": [
    {
     "name": "stdout",
     "output_type": "stream",
     "text": [
      "Parsed 4401 Japanese subs\n",
      "Parsed 12715 English subs\n"
     ]
    }
   ],
   "source": [
    "print(\"Parsed {} Japanese subs\".format(len(ja_subs_dict)))\n",
    "print(\"Parsed {} English subs\".format(len(en_subs_dict)))"
   ]
  },
  {
   "cell_type": "code",
   "execution_count": 9,
   "metadata": {
    "collapsed": false
   },
   "outputs": [],
   "source": [
    "SubEvent = namedtuple(\"SubEvent\", [\"start_sec\", \"end_sec\"])\n",
    "def any_format_to_sub_events(format_and_subs):\n",
    "  format_str, subs = format_and_subs\n",
    "  events = []\n",
    "  if format_str == \"ASS\":\n",
    "    for ass_event in subs.events:\n",
    "      e = SubEvent(ass_event.start.total_seconds(), ass_event.end.total_seconds())\n",
    "      events.append(e)\n",
    "  elif format_str == \"SRT\":\n",
    "    for srt_event in subs:\n",
    "      e = SubEvent(srt_event.start.ordinal/1000.0, srt_event.end.ordinal/1000.0)\n",
    "      events.append(e)\n",
    "  return events"
   ]
  },
  {
   "cell_type": "code",
   "execution_count": 10,
   "metadata": {
    "collapsed": false
   },
   "outputs": [],
   "source": [
    "# Convert all SRT/ASS subs to SubEvent instances\n",
    "ja_events = { k: any_format_to_sub_events(v) for k, v in ja_subs_dict.items() }\n",
    "en_events = { k: any_format_to_sub_events(v) for k, v in en_subs_dict.items() }"
   ]
  },
  {
   "cell_type": "code",
   "execution_count": 98,
   "metadata": {
    "collapsed": false
   },
   "outputs": [],
   "source": [
    "ja_events = { k: v for k, v in ja_events.items() if len(v) > 0 }\n",
    "en_events = { k: v for k, v in en_events.items() if len(v) > 0 }"
   ]
  },
  {
   "cell_type": "code",
   "execution_count": 236,
   "metadata": {
    "collapsed": false
   },
   "outputs": [],
   "source": [
    "# Create vector representation\n",
    "# The feature vector is 1 whenever someone is talking, 0 otherwise\n",
    "# It \"-1\" before the first text appears, and -1 after the last text\n",
    "# to discourage matching buggy subs that start after severa hours\n",
    "def create_representation(sub_events, max_time=10000):\n",
    "  \"\"\"Creates a vector representation of the sub events\"\"\"\n",
    "  res = np.zeros(max_time)\n",
    "  for e in sub_events:\n",
    "    if round(e.start_sec) < max_time:\n",
    "      start_idx = round(e.start_sec)\n",
    "      end_idx = round(e.end_sec)\n",
    "      res[start_idx:end_idx] = 1.0\n",
    "  \n",
    "  # Set everything before first text to -1\n",
    "  first_idx = round(sub_events[0].start_sec)\n",
    "  res[:first_idx] = -1.0\n",
    "  \n",
    "  # Set everything after last text to -1\n",
    "  last_idx = round(sub_events[-1].start_sec)\n",
    "  res[last_idx:] = -1.0\n",
    "  \n",
    "  return res"
   ]
  },
  {
   "cell_type": "code",
   "execution_count": 237,
   "metadata": {
    "collapsed": false
   },
   "outputs": [],
   "source": [
    "# Create vector representations for EN and JA subs\n",
    "ja_rep = { k: create_representation(v) for k,v in ja_events.items() }\n",
    "en_rep = { k: create_representation(v) for k,v in en_events.items() }"
   ]
  },
  {
   "cell_type": "code",
   "execution_count": 238,
   "metadata": {
    "collapsed": true
   },
   "outputs": [],
   "source": [
    "# Unzip\n",
    "en_reps_keys, en_reps_values = zip(*en_rep.items())\n",
    "en_reps_matrix = np.array(en_reps_values)\n",
    "ja_reps_keys, ja_reps_values = zip(*ja_rep.items())\n",
    "ja_reps_matrix = np.array(ja_reps_values)"
   ]
  },
  {
   "cell_type": "code",
   "execution_count": 239,
   "metadata": {
    "collapsed": false
   },
   "outputs": [],
   "source": [
    "# Save, b/c computation takes long\n",
    "np.save(\"/Users/dennybritz/Downloads/en_reps_matrix\", en_reps_matrix)\n",
    "np.save(\"/Users/dennybritz/Downloads/ja_reps_matrix\", ja_reps_matrix)"
   ]
  },
  {
   "cell_type": "code",
   "execution_count": 248,
   "metadata": {
    "collapsed": false
   },
   "outputs": [
    {
     "name": "stdout",
     "output_type": "stream",
     "text": [
      "(100, 12714)\n",
      "0.0\n",
      "/Users/dennybritz/Downloads/daddicts_subs/ja/file.php?id=64680\n",
      "/Users/dennybritz/Downloads/daddicts_subs/en/file.php?id=64914\n"
     ]
    },
    {
     "data": {
      "image/png": "[encoded data removed]",
      "text/plain": [
       "<matplotlib.figure.Figure at 0x2b47b9e80>"
      ]
     },
     "metadata": {},
     "output_type": "display_data"
    }
   ],
   "source": [
    "# Subset to make it faster for testing\n",
    "ja_reps_matrix_ = ja_reps_matrix[0:100]\n",
    "\n",
    "# TODO: Try different distance metrics?\n",
    "sim = cdist(ja_reps_matrix_, en_reps_matrix, metric='hamming')\n",
    "sim = np.nan_to_num(sim)\n",
    "\n",
    "plt.hist(sim.flatten())\n",
    "print(sim.shape)\n",
    "match_idx = np.argmin(sim)\n",
    "match_idx = np.unravel_index(match_idx, sim.shape)\n",
    "print(sim[match_idx])\n",
    "\n",
    "print(ja_reps_keys[match_idx[0]])\n",
    "print(en_reps_keys[match_idx[1]])"
   ]
  },
  {
   "cell_type": "code",
   "execution_count": 249,
   "metadata": {
    "collapsed": false
   },
   "outputs": [
    {
     "name": "stdout",
     "output_type": "stream",
     "text": [
      "54\n"
     ]
    },
    {
     "data": {
      "text/plain": [
       "('/Users/dennybritz/Downloads/daddicts_subs/ja/file.php?id=52914',\n",
       " '/Users/dennybritz/Downloads/daddicts_subs/en/file.php?id=46104',\n",
       " 0.046399999999999997)"
      ]
     },
     "execution_count": 249,
     "metadata": {},
     "output_type": "execute_result"
    }
   ],
   "source": [
    "# TODO: Tune this\n",
    "THRESHOLD = 0.05\n",
    "matches = []\n",
    "\n",
    "for ja_idx, ja_sub in enumerate(sim):\n",
    "  best_en_idx = np.argmin(sim[ja_idx])\n",
    "  score = sim[ja_idx, best_en_idx]\n",
    "  if score < THRESHOLD:\n",
    "    matches.append((ja_reps_keys[ja_idx], en_reps_keys[best_en_idx], score))\n",
    "#  print(best_score)\n",
    "\n",
    "print(len(matches))  \n",
    "matches[1]"
   ]
  },
  {
   "cell_type": "code",
   "execution_count": null,
   "metadata": {
    "collapsed": true
   },
   "outputs": [],
   "source": []
  }
 ],
 "metadata": {
  "kernelspec": {
   "display_name": "Python 3",
   "language": "python",
   "name": "python3"
  }
 },
 "nbformat": 4,
 "nbformat_minor": 2
}
