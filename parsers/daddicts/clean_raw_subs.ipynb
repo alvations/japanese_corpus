{
 "cells": [
  {
   "cell_type": "code",
   "execution_count": null,
   "metadata": {
    "collapsed": true
   },
   "outputs": [],
   "source": [
    "\"\"\"\n",
    "Cleans sub files without file extensions\n",
    "\"\"\""
   ]
  },
  {
   "cell_type": "code",
   "execution_count": 3,
   "metadata": {
    "collapsed": false
   },
   "outputs": [],
   "source": [
    "import os\n",
    "import pysrt # pip install pysrt\n",
    "import ass # pip install ass\n",
    "import shutil\n",
    "import re"
   ]
  },
  {
   "cell_type": "code",
   "execution_count": 4,
   "metadata": {
    "collapsed": false
   },
   "outputs": [],
   "source": [
    "DATA_DIR_EN = \"/Users/dennybritz/Downloads/daddicts_subs/en\"\n",
    "DATA_DIR_JA = \"/Users/dennybritz/Downloads/daddicts_subs/ja\"\n",
    "OUTPUT_DIR_JA = \"/Users/dennybritz/Downloads/daddicts_subs_clean/ja\"\n",
    "OUTPUT_DIR_EN = \"/Users/dennybritz/Downloads/daddicts_subs_clean/en\""
   ]
  },
  {
   "cell_type": "code",
   "execution_count": 5,
   "metadata": {
    "collapsed": true
   },
   "outputs": [],
   "source": [
    "def parse_sub(filename):\n",
    "  # TRY ASS\n",
    "  try:\n",
    "    with open(filename) as f:\n",
    "      subs = ass.parse(f)\n",
    "      return (\"ASS\", subs)\n",
    "  except: \n",
    "    pass\n",
    "\n",
    "  # Try SRT\n",
    "  try:\n",
    "    subs = pysrt.open(filename, error_handling=2)\n",
    "    return (\"SRT\", subs)\n",
    "  except:\n",
    "    pass\n",
    "\n",
    "  return None      "
   ]
  },
  {
   "cell_type": "code",
   "execution_count": 10,
   "metadata": {
    "collapsed": false
   },
   "outputs": [],
   "source": [
    "input_dir=DATA_DIR_JA\n",
    "output_dir=OUTPUT_DIR_JA\n",
    "\n",
    "\n",
    "def clean_subs(input_dir, output_dir):\n",
    "  os.makedirs(output_dir, exist_ok=True)\n",
    "  for filename in os.listdir(input_dir):\n",
    "    full_path = os.path.join(input_dir, filename)\n",
    "\n",
    "    # Parse sub\n",
    "    res = parse_sub(full_path)\n",
    "    if res is None:\n",
    "      continue\n",
    "    sub_type, sub = res\n",
    "\n",
    "    # Get file id \n",
    "    file_id_matches = re.search(r\"id=(\\d+)\", filename)\n",
    "    if not file_id_matches:\n",
    "      continue\n",
    "    file_id = file_id_matches.group(1)\n",
    "\n",
    "    # Copy file\n",
    "    output_path = os.path.join(output_dir, \"{}.{}\".format(file_id, sub_type.lower()))\n",
    "    shutil.copy(full_path, output_path)"
   ]
  },
  {
   "cell_type": "code",
   "execution_count": 11,
   "metadata": {
    "collapsed": false
   },
   "outputs": [],
   "source": [
    "clean_subs(DATA_DIR_JA, OUTPUT_DIR_JA)"
   ]
  },
  {
   "cell_type": "code",
   "execution_count": 12,
   "metadata": {
    "collapsed": true
   },
   "outputs": [],
   "source": [
    "clean_subs(DATA_DIR_EN, OUTPUT_DIR_EN)"
   ]
  }
 ],
 "metadata": {
  "kernelspec": {
   "display_name": "Python 3",
   "language": "python",
   "name": "python3"
  },
  "language_info": {
   "codemirror_mode": {
    "name": "ipython",
    "version": 3
   },
   "file_extension": ".py",
   "mimetype": "text/x-python",
   "name": "python",
   "nbconvert_exporter": "python",
   "pygments_lexer": "ipython3",
   "version": "3.5.1"
  }
 },
 "nbformat": 4,
 "nbformat_minor": 2
}
