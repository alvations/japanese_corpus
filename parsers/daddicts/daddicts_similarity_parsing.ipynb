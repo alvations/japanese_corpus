{
 "cells": [
  {
   "cell_type": "code",
   "execution_count": 42,
   "metadata": {
    "collapsed": false
   },
   "outputs": [],
   "source": [
    "%matplotlib inline\n",
    "\n",
    "import os\n",
    "import pysrt # pip install pysrt\n",
    "import ass # pip install ass\n",
    "from collections import namedtuple\n",
    "import itertools\n",
    "import pandas as pd\n",
    "import shutil\n",
    "\n",
    "import numpy as np\n",
    "from scipy.spatial.distance import cdist\n",
    "import matplotlib\n",
    "from matplotlib import pyplot as plt\n",
    "matplotlib.style.use(\"ggplot\")"
   ]
  },
  {
   "cell_type": "code",
   "execution_count": 2,
   "metadata": {
    "collapsed": true
   },
   "outputs": [],
   "source": [
    "DATA_DIR_EN = \"/Users/dennybritz/Downloads/daddicts_subs_clean/en\"\n",
    "DATA_DIR_JA = \"/Users/dennybritz/Downloads/daddicts_subs_clean/ja\""
   ]
  },
  {
   "cell_type": "code",
   "execution_count": 3,
   "metadata": {
    "collapsed": false
   },
   "outputs": [],
   "source": [
    "def parse_sub(filename):\n",
    "  if filename.endswith(\".ass\"):\n",
    "    with open(filename) as f:\n",
    "      subs = ass.parse(f)\n",
    "    return (\"ASS\", subs)\n",
    "  elif filename.endswith(\".srt\"):\n",
    "    subs = pysrt.open(filename, error_handling=2)\n",
    "    return (\"SRT\", subs)\n",
    "  else:\n",
    "    return None      "
   ]
  },
  {
   "cell_type": "code",
   "execution_count": 4,
   "metadata": {
    "collapsed": false
   },
   "outputs": [],
   "source": [
    "def get_subs(directory):\n",
    "  \"\"\"Returns an iterator of (name, type) for all files in a directory.\n",
    "  \"\"\"\n",
    "  for filename in os.listdir(directory):\n",
    "    full_path = os.path.join(directory, filename)\n",
    "    res = parse_sub(full_path)\n",
    "    if res is not None:\n",
    "      yield (full_path, res)"
   ]
  },
  {
   "cell_type": "code",
   "execution_count": 5,
   "metadata": {
    "collapsed": false
   },
   "outputs": [],
   "source": [
    "ja_subs_dict = dict(list(get_subs(DATA_DIR_JA)))\n",
    "en_subs_dict = dict(list(get_subs(DATA_DIR_EN)))"
   ]
  },
  {
   "cell_type": "code",
   "execution_count": 6,
   "metadata": {
    "collapsed": false
   },
   "outputs": [
    {
     "name": "stdout",
     "output_type": "stream",
     "text": [
      "Parsed 4328 Japanese subs\n",
      "Parsed 10980 English subs\n"
     ]
    }
   ],
   "source": [
    "print(\"Parsed {} Japanese subs\".format(len(ja_subs_dict)))\n",
    "print(\"Parsed {} English subs\".format(len(en_subs_dict)))"
   ]
  },
  {
   "cell_type": "code",
   "execution_count": 7,
   "metadata": {
    "collapsed": true
   },
   "outputs": [],
   "source": [
    "# All subs are converted to arrays of this\n",
    "SubEvent = namedtuple(\"SubEvent\", [\"start_sec\", \"end_sec\", \"text\"])"
   ]
  },
  {
   "cell_type": "code",
   "execution_count": 8,
   "metadata": {
    "collapsed": false
   },
   "outputs": [],
   "source": [
    "\n",
    "def any_format_to_sub_events(format_and_subs):\n",
    "  format_str, subs = format_and_subs\n",
    "  events = []\n",
    "  if format_str == \"ASS\":\n",
    "    for ass_event in subs.events:\n",
    "      if not ass_event.TYPE == ass.document.Dialogue.TYPE:\n",
    "        continue\n",
    "      e = SubEvent(ass_event.start.total_seconds(), ass_event.end.total_seconds(), ass_event.text)\n",
    "      events.append(e)\n",
    "  elif format_str == \"SRT\":\n",
    "    for srt_event in subs:\n",
    "      e = SubEvent(srt_event.start.ordinal/1000.0, srt_event.end.ordinal/1000.0, srt_event.text_without_tags)\n",
    "      events.append(e)\n",
    "  return events"
   ]
  },
  {
   "cell_type": "code",
   "execution_count": 9,
   "metadata": {
    "collapsed": false
   },
   "outputs": [],
   "source": [
    "# Convert all SRT/ASS subs to SubEvent instances\n",
    "ja_events = { k: any_format_to_sub_events(v) for k, v in ja_subs_dict.items() }\n",
    "en_events = { k: any_format_to_sub_events(v) for k, v in en_subs_dict.items() }"
   ]
  },
  {
   "cell_type": "code",
   "execution_count": 10,
   "metadata": {
    "collapsed": false
   },
   "outputs": [],
   "source": [
    "ja_events = { k: v for k, v in ja_events.items() if len(v) > 0 }\n",
    "en_events = { k: v for k, v in en_events.items() if len(v) > 0 }"
   ]
  },
  {
   "cell_type": "code",
   "execution_count": 11,
   "metadata": {
    "collapsed": false
   },
   "outputs": [
    {
     "name": "stdout",
     "output_type": "stream",
     "text": [
      "Parsed 4328 Japanese subs\n",
      "Parsed 10980 English subs\n"
     ]
    }
   ],
   "source": [
    "print(\"Parsed {} Japanese subs\".format(len(ja_events)))\n",
    "print(\"Parsed {} English subs\".format(len(en_events)))"
   ]
  },
  {
   "cell_type": "code",
   "execution_count": 12,
   "metadata": {
    "collapsed": false
   },
   "outputs": [],
   "source": [
    "# Create vector representation\n",
    "# The feature vector is 1 whenever someone is talking, 0 otherwise\n",
    "# It \"-1\" before the first text appears, and -1 after the last text\n",
    "# to discourage matching buggy subs that start after severa hours\n",
    "def create_representation(sub_events, max_time=10000):\n",
    "  \"\"\"Creates a vector representation of the sub events\"\"\"\n",
    "  res = np.zeros(max_time)\n",
    "  for e in sub_events:\n",
    "    if round(e.start_sec) < max_time:\n",
    "      start_idx = round(e.start_sec)\n",
    "      end_idx = round(e.end_sec)\n",
    "      res[start_idx:end_idx] = 1.0\n",
    "  \n",
    "  # Set everything before first text to -1\n",
    "  first_idx = round(sub_events[0].start_sec)\n",
    "  res[:first_idx] = -1.0\n",
    "  \n",
    "  # Set everything after last text to -1\n",
    "  last_idx = round(sub_events[-1].start_sec)\n",
    "  res[last_idx:] = -1.0\n",
    "  \n",
    "  return res"
   ]
  },
  {
   "cell_type": "code",
   "execution_count": 13,
   "metadata": {
    "collapsed": false
   },
   "outputs": [],
   "source": [
    "# Create vector representations for EN and JA subs\n",
    "ja_rep = { k: create_representation(v) for k,v in ja_events.items() }\n",
    "en_rep = { k: create_representation(v) for k,v in en_events.items() }"
   ]
  },
  {
   "cell_type": "code",
   "execution_count": 16,
   "metadata": {
    "collapsed": true
   },
   "outputs": [],
   "source": [
    "# Unzip\n",
    "en_reps_keys, en_reps_values = zip(*en_rep.items())\n",
    "en_reps_matrix = np.array(en_reps_values)\n",
    "ja_reps_keys, ja_reps_values = zip(*ja_rep.items())\n",
    "ja_reps_matrix = np.array(ja_reps_values)"
   ]
  },
  {
   "cell_type": "code",
   "execution_count": 18,
   "metadata": {
    "collapsed": false
   },
   "outputs": [],
   "source": [
    "# Save, b/c computation takes long\n",
    "np.save(\"/Users/dennybritz/Downloads/en_reps_matrix\", en_reps_matrix)\n",
    "np.save(\"/Users/dennybritz/Downloads/ja_reps_matrix\", ja_reps_matrix)\n",
    "np.save(\"/Users/dennybritz/Downloads/en_reps_keys\", en_reps_keys)\n",
    "np.save(\"/Users/dennybritz/Downloads/ja_reps_keys\", ja_reps_keys)\n",
    "\n",
    "# Load\n",
    "# en_reps_matrix = np.load(\"/Users/dennybritz/Downloads/en_reps_matrix\")\n",
    "# ja_reps_matrix = np.load(\"/Users/dennybritz/Downloads/ja_reps_matrix\")\n",
    "# en_reps_keys = np.load(\"/Users/dennybritz/Downloads/en_reps_keys\")\n",
    "# ja_reps_keys = np.load(\"/Users/dennybritz/Downloads/ja_reps_keys\")"
   ]
  },
  {
   "cell_type": "code",
   "execution_count": 33,
   "metadata": {
    "collapsed": false
   },
   "outputs": [
    {
     "data": {
      "text/plain": [
       "count    109800.000000\n",
       "mean          0.284350\n",
       "std           0.159246\n",
       "min           0.008600\n",
       "25%           0.145900\n",
       "50%           0.230000\n",
       "75%           0.462800\n",
       "max           0.975200\n",
       "dtype: float64"
      ]
     },
     "execution_count": 33,
     "metadata": {},
     "output_type": "execute_result"
    },
    {
     "data": {
      "image/png": "[encoded data removed]",
      "text/plain": [
       "<matplotlib.figure.Figure at 0x2aa767c50>"
      ]
     },
     "metadata": {},
     "output_type": "display_data"
    }
   ],
   "source": [
    "# Subset to make it faster for testing\n",
    "ja_reps_matrix_ = ja_reps_matrix[0:10]\n",
    "\n",
    "# TODO: Try different distance metrics?\n",
    "sim = cdist(ja_reps_matrix_, en_reps_matrix, metric='hamming')\n",
    "sim = np.nan_to_num(sim)\n",
    "\n",
    "fig = plt.figure(figsize=(10,5))\n",
    "_, bins, _ = plt.hist(sim.flatten(), bins=20)\n",
    "plt.xticks(bins, rotation=45)\n",
    "# print(sim.shape)\n",
    "# match_idx = np.argmin(sim)\n",
    "# match_idx = np.unravel_index(match_idx, sim.shape)\n",
    "# print(sim[match_idx])\n",
    "\n",
    "# print(ja_reps_keys[match_idx[0]])\n",
    "# print(en_reps_keys[match_idx[1]])\n",
    "pd.Series(sim.flatten()).describe()"
   ]
  },
  {
   "cell_type": "code",
   "execution_count": 71,
   "metadata": {
    "collapsed": false
   },
   "outputs": [
    {
     "name": "stdout",
     "output_type": "stream",
     "text": [
      "Found 1159 matches.\n"
     ]
    }
   ],
   "source": [
    "# TODO: Tune this\n",
    "THRESHOLD = 0.04\n",
    "DIST_METRIC = \"hamming\"\n",
    "\n",
    "matches = []\n",
    "for ja_idx, ja_sub_vector in itertools.islice(enumerate(ja_reps_matrix), 10000):\n",
    "  dists = cdist([ja_sub_vector], en_reps_matrix, metric=DIST_METRIC)[0]\n",
    "  best_en_idx = np.argmin(dists)\n",
    "  best_dist = dists[best_en_idx]\n",
    "  if best_dist < THRESHOLD:\n",
    "    matches.append((ja_reps_keys[ja_idx], en_reps_keys[best_en_idx], score))\n",
    "\n",
    "print(\"Found {} matches.\".format(len(matches)))    "
   ]
  },
  {
   "cell_type": "code",
   "execution_count": 73,
   "metadata": {
    "collapsed": false
   },
   "outputs": [],
   "source": [
    "OUTPUT_DIR = \"/Users/dennybritz/Downloads/daddicts_matched\"\n",
    "os.makedirs(OUTPUT_DIR, exist_ok=True)\n",
    "\n",
    "# Optional:\n",
    "# # Organize matched files\n",
    "# for idx, match in enumerate(matches):\n",
    "#   ja_file, en_file, score = match\n",
    "#   output_dir = os.path.join(OUTPUT_DIR, str(idx))\n",
    "#   os.makedirs(output_dir, exist_ok=True)\n",
    "#   shutil.copy2(ja_file, output_dir)\n",
    "#   shutil.copy2(en_file, output_dir)"
   ]
  },
  {
   "cell_type": "code",
   "execution_count": 74,
   "metadata": {
    "collapsed": false
   },
   "outputs": [],
   "source": [
    "RAW_OUTPUT_PATH_EN = \"/Users/dennybritz/Downloads/daddicts_matched/combined.en\"\n",
    "RAW_OUTPUT_PATH_JA = \"/Users/dennybritz/Downloads/daddicts_matched/combined.ja\"\n",
    "\n",
    "raw_output_file_en = open(RAW_OUTPUT_PATH_EN, \"w\")\n",
    "raw_output_file_ja = open(RAW_OUTPUT_PATH_JA, \"w\")\n",
    "\n",
    "def text_filter(ja_text, en_text):\n",
    "  if len(ja_text) < 3 or len(en_text) < 5:\n",
    "    return False\n",
    "  return True\n",
    "\n",
    "for match in matches:\n",
    "  ja_file, en_file, score = match\n",
    "  match_events_ja = ja_events[ja_file]\n",
    "  match_events_en = en_events[en_file]\n",
    "\n",
    "  # For each JA event find closest EN event\n",
    "  for ja_event in match_events_ja:\n",
    "    closest_event_en = min(match_events_en, key=lambda x: np.abs(ja_event.start_sec - x.start_sec))\n",
    "    ja_text = ja_event.text.replace(\"\\n\", \" \").strip()\n",
    "    en_text = closest_event_en.text.replace(\"\\n\", \" \").strip()\n",
    "    \n",
    "    if not text_filter(ja_text, en_text):\n",
    "      continue\n",
    "    \n",
    "    raw_output_file_en.write(en_text + \"\\n\")\n",
    "    raw_output_file_ja.write(ja_text + \"\\n\")\n",
    "    \n",
    "raw_output_file_en.close()\n",
    "raw_output_file_ja.close()"
   ]
  },
  {
   "cell_type": "code",
   "execution_count": 49,
   "metadata": {
    "collapsed": false
   },
   "outputs": [
    {
     "data": {
      "text/plain": [
       "3"
      ]
     },
     "execution_count": 49,
     "metadata": {},
     "output_type": "execute_result"
    }
   ],
   "source": [
    "np.abs(3)"
   ]
  }
 ],
 "metadata": {
  "kernelspec": {
   "display_name": "Python 3",
   "language": "python",
   "name": "python3"
  },
  "language_info": {
   "codemirror_mode": {
    "name": "ipython",
    "version": 3
   },
   "file_extension": ".py",
   "mimetype": "text/x-python",
   "name": "python",
   "nbconvert_exporter": "python",
   "pygments_lexer": "ipython3",
   "version": "3.5.1"
  }
 },
 "nbformat": 4,
 "nbformat_minor": 2
}
