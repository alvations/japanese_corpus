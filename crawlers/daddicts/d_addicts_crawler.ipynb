{
 "cells": [
  {
   "cell_type": "code",
   "execution_count": 137,
   "metadata": {
    "collapsed": true
   },
   "outputs": [],
   "source": [
    "from collections import namedtuple\n",
    "import re\n",
    "import json\n",
    "from selenium import webdriver\n",
    "from selenium.webdriver.common.keys import Keys"
   ]
  },
  {
   "cell_type": "code",
   "execution_count": 139,
   "metadata": {
    "collapsed": false
   },
   "outputs": [],
   "source": [
    "driver = webdriver.Chrome()"
   ]
  },
  {
   "cell_type": "code",
   "execution_count": 119,
   "metadata": {
    "collapsed": true
   },
   "outputs": [],
   "source": [
    "SubtitleLink = namedtuple(\"SubtitleLink\", [\"lang\", \"url\", \"name\"])"
   ]
  },
  {
   "cell_type": "code",
   "execution_count": 120,
   "metadata": {
    "collapsed": true
   },
   "outputs": [],
   "source": [
    "# driver.get(\"http://www.d-addicts.com/forums/page/subtitles?sid=c00e06662e59c449c2b2814b22e7bc90#Japanese\")\n",
    "# assert \"D-Addicts\" in driver.title"
   ]
  },
  {
   "cell_type": "code",
   "execution_count": 121,
   "metadata": {
    "collapsed": true
   },
   "outputs": [],
   "source": [
    "def _clean_linkname(name):\n",
    "  res = name.lower()\n",
    "  # Remove parantheses\n",
    "  res = re.sub(r\"\\(.+?\\)\", \"\", res)\n",
    "  res = re.sub(r\"\\[.+?\\]\", \"\", res)\n",
    "  return res.strip()"
   ]
  },
  {
   "cell_type": "code",
   "execution_count": 125,
   "metadata": {
    "collapsed": false
   },
   "outputs": [],
   "source": [
    "def get_sublinks_for_lang(lang):\n",
    "  \"\"\"Finds forum topic urls for all subtitles in the given language\"\"\"\n",
    "  driver.get(\"http://www.d-addicts.com/forums/page/subtitles?sid=c00e06662e59c449c2b2814b22e7bc90#Japanese\")\n",
    "  assert \"D-Addicts\" in driver.title\n",
    "\n",
    "  # Find all links\n",
    "  # links = []\n",
    "  elements = driver.find_elements_by_xpath(\n",
    "    \"\"\"//*[text()=\"{} Subtitles\"]//parent::div//a\"\"\".format(lang))\n",
    "  for ele in elements:\n",
    "    sl = SubtitleLink(\n",
    "      lang=lang,\n",
    "      url=ele.get_attribute(\"href\"),\n",
    "      name=_clean_linkname(ele.text))\n",
    "    yield sl"
   ]
  },
  {
   "cell_type": "code",
   "execution_count": 126,
   "metadata": {
    "collapsed": false
   },
   "outputs": [
    {
     "name": "stdout",
     "output_type": "stream",
     "text": [
      "Found 737 Japanese subs\n"
     ]
    }
   ],
   "source": [
    "# Find all movies with JP subs\n",
    "ja_links = list(get_sublinks_for_lang(\"Japanese\"))\n",
    "ja_links_dict = { l.name: l for l in ja_links }\n",
    "print(\"Found {} Japanese subs\".format(len(ja_links)))"
   ]
  },
  {
   "cell_type": "code",
   "execution_count": 134,
   "metadata": {
    "collapsed": false
   },
   "outputs": [
    {
     "data": {
      "text/plain": [
       "OrderedDict([('lang', 'Japanese'),\n",
       "             ('url', 'http://www.d-addicts.com/forums/viewtopic.php?t=100408'),\n",
       "             ('name', '11 nin mo iru!')])"
      ]
     },
     "execution_count": 134,
     "metadata": {},
     "output_type": "execute_result"
    }
   ],
   "source": [
    "ja_links[0]._asdict()"
   ]
  },
  {
   "cell_type": "code",
   "execution_count": 127,
   "metadata": {
    "collapsed": false
   },
   "outputs": [
    {
     "name": "stdout",
     "output_type": "stream",
     "text": [
      "Found 1883 English subs\n"
     ]
    }
   ],
   "source": [
    "# Find all movies with EN subs\n",
    "en_links = list(get_sublinks_for_lang(\"English\"))\n",
    "en_links_dict = { l.name: l for l in en_links }\n",
    "print(\"Found {} English subs\".format(len(en_links)))"
   ]
  },
  {
   "cell_type": "code",
   "execution_count": 135,
   "metadata": {
    "collapsed": false
   },
   "outputs": [],
   "source": [
    "def _get_download_links(url):\n",
    "  \"\"\"Finds all download links on a page\"\"\"\n",
    "  driver.get(url)\n",
    "  for link in driver.find_elements_by_xpath(\"\"\"//a[contains(@href, 'download')]\"\"\"):\n",
    "    yield link.get_attribute(\"href\")"
   ]
  },
  {
   "cell_type": "code",
   "execution_count": null,
   "metadata": {
    "collapsed": false
   },
   "outputs": [
    {
     "name": "stdout",
     "output_type": "stream",
     "text": [
      "..................."
     ]
    }
   ],
   "source": [
    "OUTFILE = \"./download_links.jsonlines\"\n",
    "\n",
    "with open(OUTFILE, \"w\") as file:\n",
    "  for link in ja_links:\n",
    "    srt_urls = list(_get_download_links(link.url))\n",
    "    json_str = json.dumps({\n",
    "        \"info\": link._asdict(),\n",
    "        \"srt_urls\": srt_urls\n",
    "    })\n",
    "    file.write(json_str + \"\\n\")\n",
    "    file.flush()\n",
    "    print(\".\", end=\"\")"
   ]
  },
  {
   "cell_type": "code",
   "execution_count": null,
   "metadata": {
    "collapsed": true
   },
   "outputs": [],
   "source": []
  }
 ],
 "metadata": {
  "kernelspec": {
   "display_name": "Python 3",
   "language": "python",
   "name": "python3"
  },
  "language_info": {
   "codemirror_mode": {
    "name": "ipython",
    "version": 3
   },
   "file_extension": ".py",
   "mimetype": "text/x-python",
   "name": "python",
   "nbconvert_exporter": "python",
   "pygments_lexer": "ipython3",
   "version": "3.5.1"
  }
 },
 "nbformat": 4,
 "nbformat_minor": 2
}
